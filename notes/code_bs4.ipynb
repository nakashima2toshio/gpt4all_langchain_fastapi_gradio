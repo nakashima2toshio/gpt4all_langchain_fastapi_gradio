{
 "cells": [
  {
   "cell_type": "markdown",
   "source": [
    "### codeの取り出し"
   ],
   "metadata": {
    "collapsed": false
   },
   "id": "9753052a44f21ff4"
  },
  {
   "cell_type": "code",
   "outputs": [
    {
     "name": "stdout",
     "output_type": "stream",
     "text": [
      "<class 'dict'>\n",
      "Key: Interface\n",
      "Value: https://www.gradio.app/docs/interface/\n",
      "Key: ChatInterfaceNEW\n",
      "Value: https://www.gradio.app/docs/chatinterface/\n",
      "Key: TabbedInterface\n",
      "Value: https://www.gradio.app/docs/tabbedinterface/\n",
      "Key: Blocks\n",
      "Value: https://www.gradio.app/docs/blocks/\n",
      "Key: Row\n",
      "Value: https://www.gradio.app/docs/row/\n",
      "Key: Column\n",
      "Value: https://www.gradio.app/docs/column/\n",
      "Key: Tab\n",
      "Value: https://www.gradio.app/docs/tab/\n",
      "Key: Group\n",
      "Value: https://www.gradio.app/docs/group/\n",
      "Key: Accordion\n",
      "Value: https://www.gradio.app/docs/accordion/\n",
      "Key: AnnotatedImage\n",
      "Value: https://www.gradio.app/docs/annotatedimage/\n",
      "Key: Audio\n",
      "Value: https://www.gradio.app/docs/audio/\n",
      "Key: BarPlot\n",
      "Value: https://www.gradio.app/docs/barplot/\n",
      "Key: Button\n",
      "Value: https://www.gradio.app/docs/button/\n",
      "Key: Chatbot\n",
      "Value: https://www.gradio.app/docs/chatbot/\n",
      "Key: Checkbox\n",
      "Value: https://www.gradio.app/docs/checkbox/\n",
      "Key: CheckboxGroup\n",
      "Value: https://www.gradio.app/docs/checkboxgroup/\n",
      "Key: ClearButton\n",
      "Value: https://www.gradio.app/docs/clearbutton/\n",
      "Key: Code\n",
      "Value: https://www.gradio.app/docs/code/\n",
      "Key: ColorPicker\n",
      "Value: https://www.gradio.app/docs/colorpicker/\n",
      "Key: Dataframe\n",
      "Value: https://www.gradio.app/docs/dataframe/\n",
      "Key: Dataset\n",
      "Value: https://www.gradio.app/docs/dataset/\n",
      "Key: Dropdown\n",
      "Value: https://www.gradio.app/docs/dropdown/\n",
      "Key: DuplicateButton\n",
      "Value: https://www.gradio.app/docs/duplicatebutton/\n",
      "Key: File\n",
      "Value: https://www.gradio.app/docs/file/\n",
      "Key: FileExplorer\n",
      "Value: https://www.gradio.app/docs/fileexplorer/\n",
      "Key: Gallery\n",
      "Value: https://www.gradio.app/docs/gallery/\n",
      "Key: HTML\n",
      "Value: https://www.gradio.app/docs/html/\n",
      "Key: HighlightedText\n",
      "Value: https://www.gradio.app/docs/highlightedtext/\n",
      "Key: Image\n",
      "Value: https://www.gradio.app/docs/image/\n",
      "Key: ImageEditor\n",
      "Value: https://www.gradio.app/docs/imageeditor/\n",
      "Key: JSON\n",
      "Value: https://www.gradio.app/docs/json/\n",
      "Key: Label\n",
      "Value: https://www.gradio.app/docs/label/\n",
      "Key: LinePlot\n",
      "Value: https://www.gradio.app/docs/lineplot/\n",
      "Key: LoginButton\n",
      "Value: https://www.gradio.app/docs/loginbutton/\n",
      "Key: LogoutButton\n",
      "Value: https://www.gradio.app/docs/logoutbutton/\n",
      "Key: Markdown\n",
      "Value: https://www.gradio.app/docs/markdown/\n",
      "Key: Model3D\n",
      "Value: https://www.gradio.app/docs/model3d/\n",
      "Key: Number\n",
      "Value: https://www.gradio.app/docs/number/\n",
      "Key: Plot\n",
      "Value: https://www.gradio.app/docs/plot/\n",
      "Key: Radio\n",
      "Value: https://www.gradio.app/docs/radio/\n",
      "Key: ScatterPlot\n",
      "Value: https://www.gradio.app/docs/scatterplot/\n",
      "Key: Slider\n",
      "Value: https://www.gradio.app/docs/slider/\n",
      "Key: State\n",
      "Value: https://www.gradio.app/docs/state/\n",
      "Key: Textbox\n",
      "Value: https://www.gradio.app/docs/textbox/\n",
      "Key: UploadButton\n",
      "Value: https://www.gradio.app/docs/uploadbutton/\n",
      "Key: Video\n",
      "Value: https://www.gradio.app/docs/video/\n",
      "Key: Examples\n",
      "Value: https://www.gradio.app/docs/examples/\n",
      "Key: Progress\n",
      "Value: https://www.gradio.app/docs/progress/\n",
      "Key: make_waveform\n",
      "Value: https://www.gradio.app/docs/make_waveform/\n",
      "Key: load\n",
      "Value: https://www.gradio.app/docs/load/\n",
      "Key: Error\n",
      "Value: https://www.gradio.app/docs/error/\n",
      "Key: EventData\n",
      "Value: https://www.gradio.app/docs/eventdata/\n",
      "Key: Warning\n",
      "Value: https://www.gradio.app/docs/warning/\n",
      "Key: Info\n",
      "Value: https://www.gradio.app/docs/info/\n",
      "Key: Request\n",
      "Value: https://www.gradio.app/docs/request/\n",
      "Key: mount_gradio_app\n",
      "Value: https://www.gradio.app/docs/mount_gradio_app/\n",
      "Key: Flagging\n",
      "Value: https://www.gradio.app/docs/flagging/\n",
      "Key: Themes\n",
      "Value: https://www.gradio.app/docs/themes/\n",
      "Key: Client\n",
      "Value: https://www.gradio.app/docs/client/\n",
      "Key: Job\n",
      "Value: https://www.gradio.app/docs/job/\n"
     ]
    }
   ],
   "source": [
    "# links_data.json\n",
    "import json\n",
    "\n",
    "with open ('../data/json/links_data.json', 'r') as fp:\n",
    "    links = json.load(fp)\n",
    "\n",
    "print(type(links))\n",
    "\n",
    "for key, value in links.items():\n",
    "    print(\"Key:\", key)\n",
    "    print(\"Value:\", value)"
   ],
   "metadata": {
    "collapsed": false,
    "ExecuteTime": {
     "end_time": "2024-02-19T17:10:16.734105Z",
     "start_time": "2024-02-19T17:10:16.730526Z"
    }
   },
   "id": "be6649d2825819a0",
   "execution_count": 15
  },
  {
   "cell_type": "code",
   "outputs": [
    {
     "name": "stdout",
     "output_type": "stream",
     "text": [
      "<class 'dict'>\n"
     ]
    }
   ],
   "source": [
    "# links_data.json\n",
    "import json\n",
    "\n",
    "with open ('../data/json/python_cd_dict.json', 'r') as fp2:\n",
    "    python_cd_data = json.load(fp2)\n",
    "\n",
    "print(type(python_cd_data))"
   ],
   "metadata": {
    "collapsed": false,
    "ExecuteTime": {
     "end_time": "2024-02-19T17:08:55.691383Z",
     "start_time": "2024-02-19T17:08:55.687597Z"
    }
   },
   "id": "d96a206b07bf1913",
   "execution_count": 13
  },
  {
   "cell_type": "code",
   "outputs": [],
   "source": [],
   "metadata": {
    "collapsed": false
   },
   "id": "aef1421065711903"
  }
 ],
 "metadata": {
  "kernelspec": {
   "display_name": "Python 3",
   "language": "python",
   "name": "python3"
  },
  "language_info": {
   "codemirror_mode": {
    "name": "ipython",
    "version": 2
   },
   "file_extension": ".py",
   "mimetype": "text/x-python",
   "name": "python",
   "nbconvert_exporter": "python",
   "pygments_lexer": "ipython2",
   "version": "2.7.6"
  }
 },
 "nbformat": 4,
 "nbformat_minor": 5
}
