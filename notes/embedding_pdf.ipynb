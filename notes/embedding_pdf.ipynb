{
 "cells": [
  {
   "cell_type": "code",
   "execution_count": null,
   "id": "initial_id",
   "metadata": {
    "collapsed": true
   },
   "outputs": [],
   "source": [
    "# !pip install langchain==0.0.125 openai==0.27.2 chromadb==0.3.14 pypdf==3.7.0 tiktoken==0.3.3 gradio==3.23"
   ]
  },
  {
   "cell_type": "code",
   "execution_count": 1,
   "outputs": [],
   "source": [
    "import os\n",
    "import openai\n",
    "import pypdf\n",
    "import gradio as gr\n",
    "\n",
    "from langchain.chat_models import ChatOpenAI\n",
    "from langchain.embeddings import OpenAIEmbeddings\n",
    "from langchain.vectorstores import Chroma\n",
    "from langchain.text_splitter import RecursiveCharacterTextSplitter\n",
    "from langchain.llms import OpenAI\n",
    "from langchain.chains import VectorDBQA, RetrievalQA\n",
    "\n",
    "from langchain.document_loaders import TextLoader, PyPDFLoader\n",
    "import tiktoken\n"
   ],
   "metadata": {
    "collapsed": false,
    "ExecuteTime": {
     "end_time": "2024-01-27T04:51:13.110761Z",
     "start_time": "2024-01-27T04:51:06.324826Z"
    }
   },
   "id": "735d1fb6867a1c6d"
  },
  {
   "cell_type": "code",
   "execution_count": 2,
   "outputs": [],
   "source": [
    "openai.api_key = os.environ[\"OPENAI_API_KEY\"]"
   ],
   "metadata": {
    "collapsed": false,
    "ExecuteTime": {
     "end_time": "2024-01-27T04:51:19.892615Z",
     "start_time": "2024-01-27T04:51:19.888044Z"
    }
   },
   "id": "1a2efb4fae4d79d3"
  },
  {
   "cell_type": "code",
   "execution_count": 3,
   "outputs": [
    {
     "data": {
      "text/plain": "['Radio.pdf',\n 'Progress.pdf',\n 'load.pdf',\n 'Markdown.pdf',\n 'Textbox.pdf',\n 'Code.pdf',\n 'Warning.pdf',\n 'Blocks.pdf',\n 'Info.pdf',\n 'Slider.pdf',\n 'BarPlot.pdf',\n 'Dataset.pdf',\n 'Flagging.pdf',\n 'ChatInterfaceNEW.pdf',\n 'JSON.pdf',\n 'Themes.pdf',\n 'Number.pdf',\n 'Group.pdf',\n 'Gallery.pdf',\n 'DuplicateButton.pdf',\n 'AnnotatedImage.pdf',\n 'Interface.pdf',\n 'TabbedInterface.pdf',\n 'File.pdf',\n 'UploadButton.pdf',\n 'Label.pdf',\n 'Accordion.pdf',\n 'EventData.pdf',\n 'Examples.pdf',\n 'LogoutButton.pdf',\n 'Tab.pdf',\n 'Error.pdf',\n 'ScatterPlot.pdf',\n 'CheckboxGroup.pdf',\n 'HighlightedText.pdf',\n 'Request.pdf',\n 'State.pdf',\n 'Row.pdf',\n 'mount_gradio_app.pdf',\n 'Audio.pdf',\n 'ClearButton.pdf',\n 'Dropdown.pdf',\n 'LoginButton.pdf',\n 'ImageEditor.pdf',\n 'Video.pdf',\n 'HTML.pdf',\n 'Dataframe.pdf',\n 'LinePlot.pdf',\n 'Job.pdf',\n 'Column.pdf',\n 'Plot.pdf',\n 'Checkbox.pdf',\n 'ColorPicker.pdf',\n 'Button.pdf',\n 'make_waveform.pdf',\n 'Chatbot.pdf',\n 'Client.pdf',\n 'Image.pdf',\n 'FileExplorer.pdf',\n 'Model3D.pdf']"
     },
     "execution_count": 3,
     "metadata": {},
     "output_type": "execute_result"
    }
   ],
   "source": [
    "import os\n",
    "\n",
    "os.listdir(\"../data/pdfs/\")"
   ],
   "metadata": {
    "collapsed": false,
    "ExecuteTime": {
     "end_time": "2024-02-10T00:39:45.130748Z",
     "start_time": "2024-02-10T00:39:45.124894Z"
    }
   },
   "id": "d9ff75d98f23c1da"
  },
  {
   "cell_type": "code",
   "execution_count": 3,
   "outputs": [],
   "source": [
    "loader = PyPDFLoader(\"../data/docs/Let's_Build_Your_GPT_Chatbot_with_Gradio.pdf\")\n",
    "documents = loader.load()"
   ],
   "metadata": {
    "collapsed": false,
    "ExecuteTime": {
     "end_time": "2024-01-27T04:51:41.837854Z",
     "start_time": "2024-01-27T04:51:41.288741Z"
    }
   },
   "id": "e4930da711f74282"
  },
  {
   "cell_type": "code",
   "outputs": [
    {
     "name": "stdout",
     "output_type": "stream",
     "text": [
      "Document(page_content=\"2023/11/22 10:55 Let's Build Your GPT Chatbot with Gradio - Analytics Vidhya\\nhttps://www.analyticsvidhya.com/blog/2023/05/lets-build-your-gpt-chatbot-with-gradio/#h-gradio-block 1/13Home\\nSunil Kumar Dash — Updated On September 14th, 2023\\nBeginner chatbot ChatGPT Generative AI Machine LearningMaster the Art of Data Science: A Step-by-Step Guide to Becoming an Industry-Ready Data ScientistDownload Roadmap\\n×\\nIntroduction\\nEver since OpenAI launched ChatGPT, the internet hasn’t stopped speculating about the future of technology or\\nhumanity in general. ChatGPT has emerged as a revolutionary product that has the potential to impact almost every\\nsphere of human work. OpenAI also has released APIs for the underlying models of chatGPT, “gpt-3.5-turbo” and “gpt-\\n4” (currently on the waitlist). For developers, integrating these APIs represents a new frontier of innovation. In this\\narticle, we will build GPT chatbot with Gradio and OpenAI chat models.\\nLearning Objectives\\nUnderstand GPT models and their capability\\nBasic building blocks of Gradio\\nIntegrating OpenAI chat models with Gradio chatbot\\nThis article was published as a part of the\\xa0Data Science Blogathon.\\nTable of contents\\nIntroduction\\nWhat are GPT models?\\nGradio\\nGradio Interface\\nGradio Block\\nOpenAI API\\nBuilding GPT Chatbot\\nApp Front End\\nAdd Other Components\\nApp Backend\\nPossible Improvements\\nConclusion\\nWh at are GPT models?\\nGPT stands for “Generative Pre-trained Transformers”. An autoregressive deep learning model that generates natural\\nlanguage text. GPT models are probabilistic large language models. Each possible output token is assigned a probability.\\nThe probability of each output token is conditioned on the previous token, thus making the models auto-regressive.\\nLet’s Build Your GPT Chatbot with Gradio\\n\\uf02e\", metadata={'source': \"../data/docs/Let's_Build_Your_GPT_Chatbot_with_Gradio.pdf\", 'page': 0})\n"
     ]
    },
    {
     "data": {
      "text/plain": "{'source': \"../data/docs/Let's_Build_Your_GPT_Chatbot_with_Gradio.pdf\",\n 'page': 0}"
     },
     "execution_count": 12,
     "metadata": {},
     "output_type": "execute_result"
    }
   ],
   "source": [
    "import pprint\n",
    "pprint.pprint(documents[0])\n",
    "# documents[0]\n",
    "documents[0].metadata"
   ],
   "metadata": {
    "collapsed": false,
    "ExecuteTime": {
     "end_time": "2024-01-27T04:55:59.810103Z",
     "start_time": "2024-01-27T04:55:59.795937Z"
    }
   },
   "id": "940f926bd4658f03",
   "execution_count": 12
  },
  {
   "cell_type": "code",
   "execution_count": 25,
   "outputs": [],
   "source": [
    "text_splitter = RecursiveCharacterTextSplitter(chunk_size=1000, chunk_overlap=0)\n",
    "texts = text_splitter.split_documents(documents)\n",
    "embeddings = OpenAIEmbeddings()\n",
    "vectordb = Chroma.from_documents(texts, embeddings)\n",
    "\n",
    "qa = RetrievalQA.from_chain_type(llm=ChatOpenAI(model_name=\"gpt-3.5-turbo\"), chain_type=\"stuff\", retriever=vectordb.as_retriever())"
   ],
   "metadata": {
    "collapsed": false,
    "ExecuteTime": {
     "end_time": "2023-11-29T04:04:10.348536Z",
     "start_time": "2023-11-29T04:04:06.729750Z"
    }
   },
   "id": "2d3f122d171a8b4f"
  },
  {
   "cell_type": "code",
   "execution_count": 26,
   "outputs": [],
   "source": [
    "# プロンプトの定義\n",
    "from langchain import PromptTemplate\n",
    "\n",
    "template = \"\"\"\n",
    "私はソフトウェアの開発者で、python, gradioを利用しソフトウェアを開発したいと思います。\n",
    "あなたは親切なアシスタントです。ステップバイステップで、下記の質問に日本語で回答してください。\n",
    "質問：{question}\n",
    "回答：\n",
    "\"\"\"\n",
    "\n",
    "prompt = PromptTemplate(\n",
    "    input_variables=[\"question\"],\n",
    "    template=template,\n",
    ")"
   ],
   "metadata": {
    "collapsed": false,
    "ExecuteTime": {
     "end_time": "2023-11-29T04:04:19.318354Z",
     "start_time": "2023-11-29T04:04:19.315509Z"
    }
   },
   "id": "c52c22bd151814f9"
  },
  {
   "cell_type": "code",
   "execution_count": 28,
   "outputs": [
    {
     "name": "stderr",
     "output_type": "stream",
     "text": [
      "/Users/nakashima_toshio/PycharmProjects/gpt4all_langchain_fastapi_gradio/venv/lib/python3.11/site-packages/gradio/layouts/column.py:55: UserWarning: 'scale' value should be an integer. Using 0.6 will cause issues.\n",
      "  warnings.warn(\n"
     ]
    },
    {
     "name": "stdout",
     "output_type": "stream",
     "text": [
      "Running on local URL:  http://127.0.0.1:7861\n",
      "\n",
      "To create a public link, set `share=True` in `launch()`.\n"
     ]
    },
    {
     "data": {
      "text/plain": "<IPython.core.display.HTML object>",
      "text/html": "<div><iframe src=\"http://127.0.0.1:7861/\" width=\"100%\" height=\"500\" allow=\"autoplay; camera; microphone; clipboard-read; clipboard-write;\" frameborder=\"0\" allowfullscreen></iframe></div>"
     },
     "metadata": {},
     "output_type": "display_data"
    },
    {
     "data": {
      "text/plain": ""
     },
     "execution_count": 28,
     "metadata": {},
     "output_type": "execute_result"
    }
   ],
   "source": [
    "# \n",
    "import gradio as gr\n",
    "\n",
    "def add_text(history, text):\n",
    "    history = history + [(text, None)]\n",
    "    return history, \"\"\n",
    "\n",
    "def bot(history):\n",
    "    query = history[-1][0]\n",
    "    query = prompt.format(question=query)\n",
    "    answer = qa.run(query)\n",
    "    source = qa._get_docs(query)[0]\n",
    "    source_sentence = source.page_content\n",
    "    answer_source = source_sentence +\"\\n\"+\"source:\"+source.metadata[\"source\"] + \", page:\" + str(source.metadata[\"page\"])\n",
    "    history[-1][1] = answer # + \"\\n\\n情報ソースは以下です：\\n\" + answer_source\n",
    "    return history\n",
    "\n",
    "with gr.Blocks() as demo:\n",
    "    chatbot = gr.Chatbot([], elem_id=\"chatbot\")\n",
    "\n",
    "    with gr.Row():\n",
    "        with gr.Column(scale=0.6):\n",
    "            txt = gr.Textbox(\n",
    "                show_label=False,\n",
    "                placeholder=\"Enter text and press enter\",\n",
    "            )\n",
    "\n",
    "    txt.submit(add_text, [chatbot, txt], [chatbot, txt]).then(\n",
    "        bot, chatbot, chatbot\n",
    "    )\n",
    "\n",
    "demo.launch()\n",
    "  "
   ],
   "metadata": {
    "collapsed": false,
    "ExecuteTime": {
     "end_time": "2023-11-29T04:05:01.200023Z",
     "start_time": "2023-11-29T04:05:00.944821Z"
    }
   },
   "id": "b20468d0f400fcbb"
  },
  {
   "cell_type": "code",
   "outputs": [],
   "source": [],
   "metadata": {
    "collapsed": false
   },
   "id": "b3c5b4ccf9ace8b0",
   "execution_count": 0
  }
 ],
 "metadata": {
  "kernelspec": {
   "display_name": "Python 3",
   "language": "python",
   "name": "python3"
  },
  "language_info": {
   "codemirror_mode": {
    "name": "ipython",
    "version": 2
   },
   "file_extension": ".py",
   "mimetype": "text/x-python",
   "name": "python",
   "nbconvert_exporter": "python",
   "pygments_lexer": "ipython2",
   "version": "2.7.6"
  }
 },
 "nbformat": 4,
 "nbformat_minor": 5
}
