{
 "cells": [
  {
   "cell_type": "markdown",
   "source": [
    "### crawling & scraping\n",
    "### pip install selenium\n",
    "### brew install chromedriver"
   ],
   "metadata": {
    "collapsed": false
   },
   "id": "9b1741605b734f1e"
  },
  {
   "cell_type": "code",
   "outputs": [],
   "source": [
    "import asyncio\n",
    "import nest_asyncio\n",
    "from pyppeteer import launch\n",
    "import os\n",
    "import json\n",
    "\n",
    "from selenium import webdriver\n",
    "from selenium.webdriver.chrome.service import Service\n",
    "from selenium.webdriver.common.by import By\n",
    "from selenium.webdriver.support.ui import WebDriverWait\n",
    "from selenium.webdriver.support import expected_conditions as EC\n",
    "import time\n",
    "import pprint\n",
    "\n",
    "# ディレクトリの確認と作成\n",
    "pdf_dir = '../data/pdfs/'\n",
    "json_dir = '../data/json/'\n",
    "# ディレクトリが存在しない場合は作成\n",
    "if not os.path.exists(pdf_dir):\n",
    "    os.makedirs(pdf_dir)\n",
    "\n",
    "if not os.path.exists(json_dir):\n",
    "    os.makedirs(json_dir)\n",
    "# JSONファイルのパス\n",
    "json_path = os.path.join(json_dir, 'links_data.json')\n",
    "\n",
    "# ChromeDriverのパスをServiceオブジェクトとして指定\n",
    "s = Service('/opt/homebrew/bin/chromedriver')  # ここにchromedriverの絶対パスを指定\n",
    "driver = webdriver.Chrome(service=s)\n",
    "\n",
    "# GradioのWebページにアクセス\n",
    "driver.get(\"https://www.gradio.app\")\n",
    "\n",
    "# WebDriverWaitを使用して、\"Docs\"リンクが表示されるまで最大10秒間待つ\n",
    "# CSSセレクタを使用して\"Docs\"リンクを見つける\n",
    "docs_button = WebDriverWait(driver, 10).until(\n",
    "    EC.element_to_be_clickable((By.CSS_SELECTOR, 'a[href=\"/docs\"]'))\n",
    ")\n",
    "docs_button.click()\n",
    "\n",
    "# ここに、\"Docs\"ページでのさらなる操作を追加できます\n",
    "# ページが完全にロードされるのを待つために少し待つ\n",
    "time.sleep(5)\n",
    "\n",
    "# 遷移後のページ内のすべてのリンクを取得\n",
    "links = driver.find_elements(By.CSS_SELECTOR, 'a.thin-link')\n",
    "\n",
    "# リンクのテキストとURLの一覧を表示\n",
    "links_data = {}\n",
    "for link in links:\n",
    "    text = link.text\n",
    "    href = link.get_attribute('href')\n",
    "    if href[-1] == '/':\n",
    "        links_data[text] = href\n",
    "\n",
    "# JSONファイルとして保存\n",
    "with open(json_path, 'w') as json_file:\n",
    "    json.dump(links_data, json_file, indent=4)\n",
    "    \n",
    "# link_dataのhrefのページを読み取り、pdfに変換して、ローカルの　.data/pdfs/　に保存する\n",
    "# nest_asyncioを適用\n",
    "nest_asyncio.apply()\n",
    "\n",
    "async def save_pdf(url, output_path):\n",
    "    browser = await launch()\n",
    "    page = await browser.newPage()\n",
    "    # タイムアウトを120秒に設定し、waitUntilオプションをnetworkidle2に変更\n",
    "    await page.goto(url, {'waitUntil': 'networkidle2', 'timeout': 120000})\n",
    "    await page.pdf({'path': output_path, 'format': 'A4'})\n",
    "    await browser.close()\n",
    "    \n",
    "# 非同期関数を実行するためのラッパー関数\n",
    "async def save_all_pdfs(links_data):\n",
    "    tasks = []\n",
    "    for title, url in links_data.items():\n",
    "        # ファイル名の設定（タイトルを使用）\n",
    "        filename = title.replace(\" \", \"_\").replace(\"/\", \"_\") + '.pdf'\n",
    "        filepath = os.path.join(pdf_dir, filename)\n",
    "        # タスクの作成\n",
    "        task = asyncio.create_task(save_pdf(url, filepath))\n",
    "        tasks.append(task)\n",
    "    # すべてのタスクを同時に実行\n",
    "    await asyncio.gather(*tasks)\n",
    "\n",
    "# 非同期関数を実行\n",
    "asyncio.get_event_loop().run_until_complete(save_all_pdfs(links_data))\n",
    "\n",
    "# ブラウザを閉じる\n",
    "time.sleep(5)\n",
    "driver.quit()\n"
   ],
   "metadata": {
    "collapsed": true,
    "ExecuteTime": {
     "end_time": "2024-01-28T05:28:53.724508Z",
     "start_time": "2024-01-28T05:28:41.613967Z"
    }
   },
   "id": "initial_id",
   "execution_count": 32
  },
  {
   "cell_type": "code",
   "outputs": [],
   "source": [
    "import os\n",
    "\n",
    "files = {}\n",
    "files = os.listdir(\"../data/html/\")"
   ],
   "metadata": {
    "collapsed": false,
    "ExecuteTime": {
     "end_time": "2024-02-10T00:26:50.035317Z",
     "start_time": "2024-02-10T00:26:50.030668Z"
    }
   },
   "id": "91718e43a6b364b1",
   "execution_count": 7
  },
  {
   "cell_type": "code",
   "outputs": [
    {
     "name": "stdout",
     "output_type": "stream",
     "text": [
      "TabbedInterface.html\n",
      "Dataset.html\n",
      "Textbox.html\n",
      "ColorPicker.html\n",
      "Image.html\n",
      "Client.html\n",
      "Label.html\n",
      "Warning.html\n",
      "Themes.html\n",
      "load.html\n",
      "Audio.html\n",
      "HTML.html\n",
      "ScatterPlot.html\n",
      "Interface.html\n",
      "Group.html\n",
      "LogoutButton.html\n",
      "make_waveform.html\n",
      "Info.html\n",
      "CheckboxGroup.html\n",
      "JSON.html\n",
      "Video.html\n",
      "ChatInterfaceNEW.html\n",
      "Progress.html\n",
      "Radio.html\n",
      "HighlightedText.html\n",
      "Accordion.html\n",
      "Dataframe.html\n",
      "Job.html\n",
      "Row.html\n",
      "ClearButton.html\n",
      "BarPlot.html\n",
      "AnnotatedImage.html\n",
      "Button.html\n",
      "mount_gradio_app.html\n",
      "LinePlot.html\n",
      "LoginButton.html\n",
      "FileExplorer.html\n",
      "Checkbox.html\n",
      "Number.html\n",
      "Gallery.html\n",
      "UploadButton.html\n",
      "EventData.html\n",
      "Column.html\n",
      "Model3D.html\n",
      "Flagging.html\n",
      "File.html\n",
      "Markdown.html\n",
      "Blocks.html\n",
      "Dropdown.html\n",
      "slider.html\n",
      "Examples.html\n",
      "Chatbot.html\n",
      "DuplicateButton.html\n",
      "Code.html\n",
      "ImageEditor.html\n",
      "Plot.html\n",
      "State.html\n",
      "Error.html\n",
      "Tab.html\n",
      "Request.html\n",
      "60\n"
     ]
    }
   ],
   "source": [
    "for f in files:\n",
    "    print(f)\n",
    "print(len(files))"
   ],
   "metadata": {
    "collapsed": false,
    "ExecuteTime": {
     "end_time": "2024-02-10T00:37:51.578090Z",
     "start_time": "2024-02-10T00:37:51.575914Z"
    }
   },
   "id": "5cc5541c168522d",
   "execution_count": 12
  },
  {
   "cell_type": "code",
   "outputs": [],
   "source": [],
   "metadata": {
    "collapsed": false
   },
   "id": "ca3efe85fdb3d571"
  }
 ],
 "metadata": {
  "kernelspec": {
   "display_name": "Python 3",
   "language": "python",
   "name": "python3"
  },
  "language_info": {
   "codemirror_mode": {
    "name": "ipython",
    "version": 2
   },
   "file_extension": ".py",
   "mimetype": "text/x-python",
   "name": "python",
   "nbconvert_exporter": "python",
   "pygments_lexer": "ipython2",
   "version": "2.7.6"
  }
 },
 "nbformat": 4,
 "nbformat_minor": 5
}
