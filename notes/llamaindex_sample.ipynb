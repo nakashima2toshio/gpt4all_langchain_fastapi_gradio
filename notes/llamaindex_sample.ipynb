{
 "cells": [
  {
   "cell_type": "markdown",
   "source": [
    "### url: https://docs.llamaindex.ai/en/stable/\n",
    "### PDFから必要な情報を抽出する。\n",
    "- 仕様\n",
    "- メソッド\n",
    "- サンプルプログラム"
   ],
   "metadata": {
    "collapsed": false
   },
   "id": "957daa32ad39345d"
  },
  {
   "cell_type": "code",
   "outputs": [],
   "source": [
    "# sentence_builder_code\n",
    "import gradio as gr\n",
    "# import nest_asyncio\n",
    "\n",
    "def sentence_builder(quantity, animal, countries, place, activity_list, morning):\n",
    "    return f\"\"\"The {quantity} {animal}s from {\" and \".join(countries)} went to the {place} where they {\" and \".join(activity_list)} until the {\"morning\" if morning else \"night\"}\"\"\"\n",
    "\n",
    "\n",
    "demo = gr.Interface(\n",
    "    sentence_builder,\n",
    "    [\n",
    "        gr.Slider(2, 20, value=4, label=\"Count\", info=\"Choose between 2 and 20\"),\n",
    "        gr.Dropdown(\n",
    "            [\"cat\", \"dog\", \"bird\"], label=\"Animal\", info=\"Will add more animals later!\"\n",
    "        ),\n",
    "        gr.CheckboxGroup([\"USA\", \"Japan\", \"Pakistan\"], label=\"Countries\", info=\"Where are they from?\"),\n",
    "        gr.Radio([\"park\", \"zoo\", \"road\"], label=\"Location\", info=\"Where did they go?\"),\n",
    "        gr.Dropdown(\n",
    "            [\"ran\", \"swam\", \"ate\", \"slept\"], value=[\"swam\", \"slept\"], multiselect=True, label=\"Activity\", info=\"Lorem ipsum dolor sit amet, consectetur adipiscing elit. Sed auctor, nisl eget ultricies aliquam, nunc nisl aliquet nunc, eget aliquam nisl nunc vel nisl.\"\n",
    "        ),\n",
    "        gr.Checkbox(label=\"Morning\", info=\"Did they do it in the morning?\"),\n",
    "    ],\n",
    "    \"text\",\n",
    "    examples=[\n",
    "        [2, \"cat\", [\"Japan\", \"Pakistan\"], \"park\", [\"ate\", \"swam\"], True],\n",
    "        [4, \"dog\", [\"Japan\"], \"zoo\", [\"ate\", \"swam\"], False],\n",
    "        [10, \"bird\", [\"USA\", \"Pakistan\"], \"road\", [\"ran\"], False],\n",
    "        [8, \"cat\", [\"Pakistan\"], \"zoo\", [\"ate\"], True],\n",
    "    ]\n",
    ")\n",
    "\n",
    "if __name__ == \"__main__\":\n",
    "    # nest_asyncio.apply()  # ここでnest_asyncioを適用\n",
    "    demo.launch()\n"
   ],
   "metadata": {
    "collapsed": false
   },
   "id": "356831270db98f9d",
   "execution_count": null
  },
  {
   "cell_type": "code",
   "outputs": [],
   "source": [],
   "metadata": {
    "collapsed": false
   },
   "id": "72ca11cc1d73fb81"
  }
 ],
 "metadata": {
  "kernelspec": {
   "display_name": "Python 3",
   "language": "python",
   "name": "python3"
  },
  "language_info": {
   "codemirror_mode": {
    "name": "ipython",
    "version": 2
   },
   "file_extension": ".py",
   "mimetype": "text/x-python",
   "name": "python",
   "nbconvert_exporter": "python",
   "pygments_lexer": "ipython2",
   "version": "2.7.6"
  }
 },
 "nbformat": 4,
 "nbformat_minor": 5
}
